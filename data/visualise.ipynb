{
 "cells": [
  {
   "cell_type": "code",
   "execution_count": 198,
   "id": "c21b4f80-2613-4eb9-89fa-feb076037483",
   "metadata": {},
   "outputs": [],
   "source": [
    "import pandas as pd\n",
    "import tempfile\n",
    "import nglview as nv\n",
    "import os"
   ]
  },
  {
   "cell_type": "code",
   "execution_count": 199,
   "id": "5ebb09b6-8e41-4950-b0c8-fd76b3ff2675",
   "metadata": {},
   "outputs": [],
   "source": [
    "target_id = '8KAI'"
   ]
  },
  {
   "cell_type": "code",
   "execution_count": 200,
   "id": "12320faf-0a2f-45d2-9d1b-9bdf742126d6",
   "metadata": {},
   "outputs": [],
   "source": [
    "data = pd.read_csv(os.path.join('/media/datasets/rna-folding/train_labels.csv'))"
   ]
  },
  {
   "cell_type": "code",
   "execution_count": 201,
   "id": "31b2e31f-d6d9-4ac3-b2d4-e50bc1930bd8",
   "metadata": {},
   "outputs": [
    {
     "data": {
      "text/html": [
       "<div>\n",
       "<style scoped>\n",
       "    .dataframe tbody tr th:only-of-type {\n",
       "        vertical-align: middle;\n",
       "    }\n",
       "\n",
       "    .dataframe tbody tr th {\n",
       "        vertical-align: top;\n",
       "    }\n",
       "\n",
       "    .dataframe thead th {\n",
       "        text-align: right;\n",
       "    }\n",
       "</style>\n",
       "<table border=\"1\" class=\"dataframe\">\n",
       "  <thead>\n",
       "    <tr style=\"text-align: right;\">\n",
       "      <th></th>\n",
       "      <th>ID</th>\n",
       "      <th>resname</th>\n",
       "      <th>resid</th>\n",
       "      <th>x_1</th>\n",
       "      <th>y_1</th>\n",
       "      <th>z_1</th>\n",
       "    </tr>\n",
       "  </thead>\n",
       "  <tbody>\n",
       "    <tr>\n",
       "      <th>0</th>\n",
       "      <td>1SCL_A_1</td>\n",
       "      <td>G</td>\n",
       "      <td>1</td>\n",
       "      <td>13.760</td>\n",
       "      <td>-25.974001</td>\n",
       "      <td>0.102</td>\n",
       "    </tr>\n",
       "    <tr>\n",
       "      <th>1</th>\n",
       "      <td>1SCL_A_2</td>\n",
       "      <td>G</td>\n",
       "      <td>2</td>\n",
       "      <td>9.310</td>\n",
       "      <td>-29.638000</td>\n",
       "      <td>2.669</td>\n",
       "    </tr>\n",
       "    <tr>\n",
       "      <th>2</th>\n",
       "      <td>1SCL_A_3</td>\n",
       "      <td>G</td>\n",
       "      <td>3</td>\n",
       "      <td>5.529</td>\n",
       "      <td>-27.813000</td>\n",
       "      <td>5.878</td>\n",
       "    </tr>\n",
       "    <tr>\n",
       "      <th>3</th>\n",
       "      <td>1SCL_A_4</td>\n",
       "      <td>U</td>\n",
       "      <td>4</td>\n",
       "      <td>2.678</td>\n",
       "      <td>-24.900999</td>\n",
       "      <td>9.793</td>\n",
       "    </tr>\n",
       "    <tr>\n",
       "      <th>4</th>\n",
       "      <td>1SCL_A_5</td>\n",
       "      <td>G</td>\n",
       "      <td>5</td>\n",
       "      <td>1.827</td>\n",
       "      <td>-20.136000</td>\n",
       "      <td>11.793</td>\n",
       "    </tr>\n",
       "  </tbody>\n",
       "</table>\n",
       "</div>"
      ],
      "text/plain": [
       "         ID resname  resid     x_1        y_1     z_1\n",
       "0  1SCL_A_1       G      1  13.760 -25.974001   0.102\n",
       "1  1SCL_A_2       G      2   9.310 -29.638000   2.669\n",
       "2  1SCL_A_3       G      3   5.529 -27.813000   5.878\n",
       "3  1SCL_A_4       U      4   2.678 -24.900999   9.793\n",
       "4  1SCL_A_5       G      5   1.827 -20.136000  11.793"
      ]
     },
     "execution_count": 201,
     "metadata": {},
     "output_type": "execute_result"
    }
   ],
   "source": [
    "data.head()"
   ]
  },
  {
   "cell_type": "code",
   "execution_count": 202,
   "id": "fbe9069b-3e16-42be-8563-b54e1339bddb",
   "metadata": {},
   "outputs": [
    {
     "data": {
      "text/plain": [
       "['3PHP',\n",
       " '1FJE',\n",
       " '1KKA',\n",
       " '1A9N',\n",
       " '4D5N',\n",
       " '1F85',\n",
       " '17RA',\n",
       " '2K66',\n",
       " '8KAI',\n",
       " '8T3E']"
      ]
     },
     "execution_count": 202,
     "metadata": {},
     "output_type": "execute_result"
    }
   ],
   "source": [
    "list(set( [id.split('_')[0] for id in data['ID']] ))[:10]"
   ]
  },
  {
   "cell_type": "code",
   "execution_count": 203,
   "id": "cc8740c4-76de-40cd-8136-aebc7d138a8e",
   "metadata": {},
   "outputs": [],
   "source": [
    "cell = data[data['ID'].str.startswith(target_id)]\n",
    "cell = cell.drop('resid', axis=1)\n",
    "cell = cell.drop('ID', axis=1)"
   ]
  },
  {
   "cell_type": "code",
   "execution_count": 204,
   "id": "9ae02cdf-18fa-4274-aa25-5d2d6f1bf835",
   "metadata": {},
   "outputs": [
    {
     "data": {
      "text/html": [
       "<div>\n",
       "<style scoped>\n",
       "    .dataframe tbody tr th:only-of-type {\n",
       "        vertical-align: middle;\n",
       "    }\n",
       "\n",
       "    .dataframe tbody tr th {\n",
       "        vertical-align: top;\n",
       "    }\n",
       "\n",
       "    .dataframe thead th {\n",
       "        text-align: right;\n",
       "    }\n",
       "</style>\n",
       "<table border=\"1\" class=\"dataframe\">\n",
       "  <thead>\n",
       "    <tr style=\"text-align: right;\">\n",
       "      <th></th>\n",
       "      <th>resname</th>\n",
       "      <th>x_1</th>\n",
       "      <th>y_1</th>\n",
       "      <th>z_1</th>\n",
       "    </tr>\n",
       "  </thead>\n",
       "  <tbody>\n",
       "    <tr>\n",
       "      <th>130443</th>\n",
       "      <td>G</td>\n",
       "      <td>NaN</td>\n",
       "      <td>NaN</td>\n",
       "      <td>NaN</td>\n",
       "    </tr>\n",
       "    <tr>\n",
       "      <th>130444</th>\n",
       "      <td>G</td>\n",
       "      <td>37.714001</td>\n",
       "      <td>-73.418999</td>\n",
       "      <td>73.100998</td>\n",
       "    </tr>\n",
       "    <tr>\n",
       "      <th>130445</th>\n",
       "      <td>U</td>\n",
       "      <td>37.092999</td>\n",
       "      <td>-78.536003</td>\n",
       "      <td>70.831001</td>\n",
       "    </tr>\n",
       "    <tr>\n",
       "      <th>130446</th>\n",
       "      <td>A</td>\n",
       "      <td>33.991001</td>\n",
       "      <td>-81.973999</td>\n",
       "      <td>69.350998</td>\n",
       "    </tr>\n",
       "    <tr>\n",
       "      <th>130447</th>\n",
       "      <td>G</td>\n",
       "      <td>28.669001</td>\n",
       "      <td>-83.289001</td>\n",
       "      <td>67.594002</td>\n",
       "    </tr>\n",
       "  </tbody>\n",
       "</table>\n",
       "</div>"
      ],
      "text/plain": [
       "       resname        x_1        y_1        z_1\n",
       "130443       G        NaN        NaN        NaN\n",
       "130444       G  37.714001 -73.418999  73.100998\n",
       "130445       U  37.092999 -78.536003  70.831001\n",
       "130446       A  33.991001 -81.973999  69.350998\n",
       "130447       G  28.669001 -83.289001  67.594002"
      ]
     },
     "execution_count": 204,
     "metadata": {},
     "output_type": "execute_result"
    }
   ],
   "source": [
    "cell.head()"
   ]
  },
  {
   "cell_type": "code",
   "execution_count": 205,
   "id": "c49136e0-b477-4701-abaa-a7daab824b42",
   "metadata": {},
   "outputs": [],
   "source": [
    "def build_pdb(df):\n",
    "    pdb_lines = []\n",
    "    for i, row in df.iterrows():\n",
    "        pdb_line = (\n",
    "            f\"HETATM{i+1:5d}  P   {row['resname']} A{i+1:4d}    \"\n",
    "            f\"{row['x_1']:8.3f}{row['y_1']:8.3f}{row['z_1']:8.3f}  1.00  0.00           P\"\n",
    "        )\n",
    "        pdb_lines.append(pdb_line)\n",
    "    pdb_lines.append(\"END\")\n",
    "    return \"\\n\".join(pdb_lines)\n",
    "\n",
    "pdb_str = build_pdb(cell)"
   ]
  },
  {
   "cell_type": "code",
   "execution_count": 206,
   "id": "862ba9c6-a921-4408-98e3-a40ee87fe7d6",
   "metadata": {},
   "outputs": [
    {
     "name": "stdout",
     "output_type": "stream",
     "text": [
      "HETATM130444  P   G A130444         nan     nan     nan  1.00  0.00           P\n",
      "HETATM130445  P   G A130445      37.714 -73.419  73.101  1.00  0.00           P\n",
      "HETATM130446  P   U A130446      37.093 -78.536  70.831  1.00  0.00           P\n",
      "HETATM130447  P   A A130447      33.991 -81.974  69.351  1.00  0.00           P\n",
      "HETATM130448  P   G A130448      28.669 -83.289  67.594  1.00  0.00           P\n",
      "HETATM130449  P   C A130449      23.881 -81.578  64.783  1.00  0.00           P\n",
      "HETATM130450  P   A A130450      20.068 -77.991  63.494  1.00  0.00           P\n",
      "HETATM130451  P   A A130451      20.209 -73.713  60.278  1.00  0.00           P\n",
      "HETATM130452  P   G A130452      20.674 -71.080  55.292  1.00  0.00           P\n",
      "HETATM130453  P   U A130453      16.913 -68.545  49.959  1.00  0.00           P\n",
      "HETATM130454  P   U A130454      14.748 -62.315  53.163  1.00  0.00           P\n",
      "HETATM130455  P   A A130455      14.848 -57.697  54.614  1.00  0.00           P\n",
      "HETATM130456  P   A A130456      16.091 -52.554  56.069  1.00  0.00           P\n",
      "HETATM130457  P   A A130457      20.149 -48.678  55.029  1.00  0.00           P\n",
      "HETATM130458  P   A A130458      24.398 -46.603  52.069  1.00  0.00           P\n",
      "HETATM130459  P   U A130459      26.070 -46.559  47.304  1.00  0.00           P\n",
      "HETATM130460  P   A A130460      31.724 -42.103  45.327  1.00  0.00           P\n",
      "HETATM130461  P   A A130461      33.458 -37.879  51.120  1.00  0.00           P\n",
      "HETATM130462  P   G A130462      30.167 -34.650  50.335  1.00  0.00           P\n",
      "HETATM130463  P   G A130463      28.749 -28.954  48.424  1.00  0.00           P\n",
      "HETATM130464  P   C A130464      25.299 -24.627  48.672  1.00  0.00           P\n",
      "HETATM130465  P   U A130465      23.052 -22.465  44.800  1.00  0.00           P\n",
      "HETATM130466  P   A A130466      19.306 -26.797  49.403  1.00  0.00           P\n",
      "HETATM130467  P   G A130467      17.367 -27.858  43.138  1.00  0.00           P\n",
      "HETATM130468  P   U A130468      12.889 -34.804  43.171  1.00  0.00           P\n",
      "HETATM130469  P   C A130469      20.105 -30.004  41.874  1.00  0.00           P\n",
      "HETATM130470  P   C A130470      25.399 -31.072  41.819  1.00  0.00           P\n",
      "HETATM130471  P   G A130471      29.670 -34.267  42.961  1.00  0.00           P\n",
      "HETATM130472  P   U A130472      34.923 -39.452  38.273  1.00  0.00           P\n",
      "HETATM130473  P   U A130473      35.147 -36.231  30.978  1.00  0.00           P\n",
      "HETATM130474  P   A A130474      38.206 -32.622  28.731  1.00  0.00           P\n",
      "HETATM130475  P   U A130475      42.533 -29.354  30.649  1.00  0.00           P\n",
      "HETATM130476  P   C A130476      48.088 -29.121  33.321  1.00  0.00           P\n",
      "HETATM130477  P   A A130477      56.559 -29.385  32.943  1.00  0.00           P\n",
      "HETATM130478  P   A A130478      59.267 -24.815  34.990  1.00  0.00           P\n",
      "HETATM130479  P   C A130479      60.052 -19.437  35.914  1.00  0.00           P\n",
      "HETATM130480  P   U A130480      57.971 -14.188  35.739  1.00  0.00           P\n",
      "HETATM130481  P   U A130481      52.762 -12.007  34.880  1.00  0.00           P\n",
      "HETATM130482  P   G A130482      47.552 -12.814  35.904  1.00  0.00           P\n",
      "HETATM130483  P   A A130483      41.336 -13.644  39.780  1.00  0.00           P\n",
      "HETATM130484  P   A A130484      41.290 -16.739  35.542  1.00  0.00           P\n",
      "HETATM130485  P   A A130485      41.460 -16.947  30.130  1.00  0.00           P\n",
      "HETATM130486  P   A A130486      45.905 -16.312  28.879  1.00  0.00           P\n",
      "HETATM130487  P   A A130487      50.485 -13.669  27.419  1.00  0.00           P\n",
      "HETATM130488  P   G A130488      56.029 -13.792  28.262  1.00  0.00           P\n",
      "HETATM130489  P   U A130489      61.204 -16.327  28.902  1.00  0.00           P\n",
      "HETATM130490  P   G A130490      65.890 -20.185  26.529  1.00  0.00           P\n",
      "HETATM130491  P   G A130491      72.961 -16.758  20.630  1.00  0.00           P\n",
      "HETATM130492  P   C A130492      74.807 -19.623  16.269  1.00  0.00           P\n",
      "HETATM130493  P   A A130493      78.207 -22.637  13.315  1.00  0.00           P\n",
      "HETATM130494  P   C A130494      81.285 -26.973  12.801  1.00  0.00           P\n",
      "HETATM130495  P   C A130495      83.327 -31.784  13.948  1.00  0.00           P\n",
      "HETATM130496  P   G A130496      81.544 -36.108  15.645  1.00  0.00           P\n",
      "HETATM130497  P   A A130497      77.862 -40.415  18.415  1.00  0.00           P\n",
      "HETATM130498  P   G A130498      75.667 -45.417  23.769  1.00  0.00           P\n",
      "HETATM130499  P   U A130499      70.931 -41.632  25.398  1.00  0.00           P\n",
      "HETATM130500  P   C A130500      74.671 -35.774  23.577  1.00  0.00           P\n",
      "HETATM130501  P   G A130501      80.625 -34.808  23.691  1.00  0.00           P\n",
      "HETATM130502  P   G A130502      84.202 -31.220  22.157  1.00  0.00           P\n",
      "HETATM130503  P   U A130503      85.649 -26.632  19.552  1.00  0.00           P\n",
      "HETATM130504  P   G A130504      85.853 -21.617  16.906  1.00  0.00           P\n",
      "HETATM130505  P   C A130505      83.223 -16.827  16.533  1.00  0.00           P\n",
      "HETATM130506  P   U A130506      79.497 -13.611  19.201  1.00  0.00           P\n",
      "HETATM130507  P   U A130507      77.899 -13.325  24.485  1.00  0.00           P\n",
      "HETATM130508  P   C A130508         nan     nan     nan  1.00  0.00           P\n",
      "END\n"
     ]
    }
   ],
   "source": [
    "print(pdb_str)"
   ]
  },
  {
   "cell_type": "code",
   "execution_count": 207,
   "id": "6c153a70-29b1-477c-9cc2-5b9429882eec",
   "metadata": {},
   "outputs": [],
   "source": [
    "with tempfile.NamedTemporaryFile(\"w+\", suffix=\".pdb\", delete=False) as tmp:\n",
    "    tmp.write(pdb_str)\n",
    "    tmp_path = tmp.name"
   ]
  },
  {
   "cell_type": "code",
   "execution_count": 217,
   "id": "421b290c-e919-4eb2-b454-2801d65547bc",
   "metadata": {},
   "outputs": [
    {
     "data": {
      "application/vnd.jupyter.widget-view+json": {
       "model_id": "0a42d18cf25444218850f0e32c559686",
       "version_major": 2,
       "version_minor": 0
      },
      "text/plain": [
       "NGLWidget()"
      ]
     },
     "metadata": {},
     "output_type": "display_data"
    }
   ],
   "source": [
    "view = nv.show_file(tmp_path)\n",
    "view.clear_representations()\n",
    "view.add_ball_and_stick()\n",
    "view.center()\n",
    "view"
   ]
  },
  {
   "cell_type": "code",
   "execution_count": 218,
   "id": "54f01f00-65a3-44c0-a9e2-f6fe82869472",
   "metadata": {},
   "outputs": [
    {
     "data": {
      "application/vnd.jupyter.widget-view+json": {
       "model_id": "9e69d6c0a2854666b2e3298cc58884e1",
       "version_major": 2,
       "version_minor": 0
      },
      "text/plain": [
       "Image(value=b'', width='99%')"
      ]
     },
     "execution_count": 218,
     "metadata": {},
     "output_type": "execute_result"
    }
   ],
   "source": [
    "view.render_image()"
   ]
  },
  {
   "cell_type": "code",
   "execution_count": 215,
   "id": "58e7bc75-85db-4a8d-83d0-f0ed4c21b6d1",
   "metadata": {},
   "outputs": [
    {
     "data": {
      "application/vnd.jupyter.widget-view+json": {
       "model_id": "980d37cca00941a78a976c8e4296a41a",
       "version_major": 2,
       "version_minor": 0
      },
      "text/plain": [
       "NGLWidget()"
      ]
     },
     "metadata": {},
     "output_type": "display_data"
    }
   ],
   "source": [
    "# Load pdb from the protein data bank\n",
    "view = nglview.show_pdbid(target_id)\n",
    "view"
   ]
  },
  {
   "cell_type": "code",
   "execution_count": 216,
   "id": "aae6c2ba-c1fb-450a-9b75-a8e1af3c7fb0",
   "metadata": {},
   "outputs": [
    {
     "data": {
      "application/vnd.jupyter.widget-view+json": {
       "model_id": "411006e88ae647588364613b04a26140",
       "version_major": 2,
       "version_minor": 0
      },
      "text/plain": [
       "Image(value=b'', width='99%')"
      ]
     },
     "execution_count": 216,
     "metadata": {},
     "output_type": "execute_result"
    }
   ],
   "source": [
    "view.render_image()"
   ]
  },
  {
   "cell_type": "code",
   "execution_count": null,
   "id": "fa9ae593-3ea0-4a02-b379-eb4660e8f2b2",
   "metadata": {},
   "outputs": [],
   "source": []
  }
 ],
 "metadata": {
  "kernelspec": {
   "display_name": "Python 3 (ipykernel)",
   "language": "python",
   "name": "python3"
  },
  "language_info": {
   "codemirror_mode": {
    "name": "ipython",
    "version": 3
   },
   "file_extension": ".py",
   "mimetype": "text/x-python",
   "name": "python",
   "nbconvert_exporter": "python",
   "pygments_lexer": "ipython3",
   "version": "3.10.12"
  }
 },
 "nbformat": 4,
 "nbformat_minor": 5
}
