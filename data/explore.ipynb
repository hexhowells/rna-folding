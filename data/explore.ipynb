{
 "cells": [
  {
   "cell_type": "code",
   "execution_count": 1,
   "id": "09c442bb-804f-478b-9455-abe8f163bac6",
   "metadata": {},
   "outputs": [],
   "source": [
    "import os\n",
    "import polars as ps"
   ]
  },
  {
   "cell_type": "markdown",
   "id": "7249a58d-7b21-41cb-a3aa-ab3f7999fad1",
   "metadata": {},
   "source": [
    "# Load MSA data"
   ]
  },
  {
   "cell_type": "code",
   "execution_count": 2,
   "id": "31702d56-2039-4785-b665-e8d02bc4cfd3",
   "metadata": {},
   "outputs": [
    {
     "data": {
      "text/plain": [
       "856"
      ]
     },
     "execution_count": 2,
     "metadata": {},
     "output_type": "execute_result"
    }
   ],
   "source": [
    "data_dir = '/media/datasets/rna-folding/MSA'\n",
    "msa_files = []\n",
    "\n",
    "for file in os.listdir(data_dir):\n",
    "    msa_files.append(os.path.join(data_dir, file))\n",
    "\n",
    "len(msa_files)"
   ]
  },
  {
   "cell_type": "code",
   "execution_count": null,
   "id": "bb7b4444-024d-41a0-8f04-49a71224d408",
   "metadata": {},
   "outputs": [],
   "source": [
    "with open(msa_files[1], 'r') as fp:\n",
    "    msa_data = fp.read()\n",
    "\n",
    "print(msa_data)"
   ]
  },
  {
   "cell_type": "markdown",
   "id": "07b09d3f-6fe9-4c37-98f4-e36b1eaa660d",
   "metadata": {},
   "source": [
    "# Training data"
   ]
  },
  {
   "cell_type": "markdown",
   "id": "0536703d-1bc6-4e68-8085-5469a555d3fb",
   "metadata": {},
   "source": [
    "**target_id** - (string) An arbitrary identifier. In train_sequences.csv, this is formatted as pdb_id_chain_id, where pdb_id is the id of the entry in the Protein Data Bank and chain_id is the chain id of the monomer in the pdb file.\n",
    "\n",
    "**sequence** - (string) The RNA sequence. For test_sequences.csv, this is guaranteed to be a string of A, C, G, and U. For some train_sequences.csv, other characters may appear.\n",
    "\n",
    "**temporal_cutoff** - (string) The date in yyyy-mm-dd format that the sequence was published. See Additional Notes.\n",
    "\n",
    "**description** - (string) Details of the origins of the sequence. For a few targets, additional information on small molecule ligands bound to the RNA is included. You don't need to make predictions for these ligand coordinates.\n",
    "\n",
    "**all_sequences** - (string) FASTA-formatted sequences of all molecular chains present in the experimentally solved structure. In a few cases this may include multiple copies of the target RNA (look for the word \"Chains\" in the header) and/or partners like other RNAs or proteins or DNA. You don't need to make predictions for all these molecules; if you do, just submit predictions for sequence. Some entries are blank. **basically, additional rna and molecules that have interacted with the primary RNA sequence to form the 3D strucuture**"
   ]
  },
  {
   "cell_type": "code",
   "execution_count": null,
   "id": "1d3e8332-e787-4bc1-b5fd-2226ffed568a",
   "metadata": {},
   "outputs": [],
   "source": [
    "training_data = ps.read_csv(os.path.join('/media/datasets/rna-folding/train_sequences.csv'))\n",
    "training_data.head(5)"
   ]
  },
  {
   "cell_type": "code",
   "execution_count": null,
   "id": "f4781edd-b087-472f-9d88-c14ad6b72311",
   "metadata": {},
   "outputs": [],
   "source": [
    "training_data['all_sequences'][3]"
   ]
  },
  {
   "cell_type": "markdown",
   "id": "2261953d-5756-43ad-b57b-13b52301bfd3",
   "metadata": {},
   "source": [
    "# Training labels"
   ]
  },
  {
   "cell_type": "markdown",
   "id": "4d2e7197-0ccd-4c5a-b140-9af5860385d3",
   "metadata": {},
   "source": [
    "**ID** - (string) that identifies the target_id and residue number, separated by _. Note: residue numbers use one-based indexing.\n",
    "\n",
    "**resname** - (character) The RNA nucleotide ( A, C, G, or U) for the residue.\n",
    "\n",
    "**resid** - (integer) residue number.\n",
    "\n",
    "**x_1,y_1,z_1,x_2,y_2,z_2**  - (float) Coordinates (in Angstroms) of the C1' atom for each experimental RNA structure. There is typically one structure for the RNA sequence, and train_labels.csv curates one structure for each training sequence. However, in some targets the experimental method has captured more than one conformation, and each will be used as a potential reference for scoring your predictions. validation_labels.csv has examples of targets with multiple reference structures (x_2,y_2,z_2, etc.)."
   ]
  },
  {
   "cell_type": "code",
   "execution_count": null,
   "id": "1efdca14-0e3a-42d1-b217-8c01aa4c3ebd",
   "metadata": {},
   "outputs": [],
   "source": [
    "training_labels = ps.read_csv(os.path.join('/media/datasets/rna-folding/train_labels.csv'))"
   ]
  },
  {
   "cell_type": "code",
   "execution_count": null,
   "id": "6dce292d-cdc1-4025-8e61-dbe9ceb6f57d",
   "metadata": {},
   "outputs": [],
   "source": [
    "training_labels"
   ]
  },
  {
   "cell_type": "code",
   "execution_count": null,
   "id": "f4c4e422-4939-4018-b105-31f7bde7568d",
   "metadata": {},
   "outputs": [],
   "source": []
  }
 ],
 "metadata": {
  "kernelspec": {
   "display_name": "Python 3 (ipykernel)",
   "language": "python",
   "name": "python3"
  },
  "language_info": {
   "codemirror_mode": {
    "name": "ipython",
    "version": 3
   },
   "file_extension": ".py",
   "mimetype": "text/x-python",
   "name": "python",
   "nbconvert_exporter": "python",
   "pygments_lexer": "ipython3",
   "version": "3.10.12"
  }
 },
 "nbformat": 4,
 "nbformat_minor": 5
}
