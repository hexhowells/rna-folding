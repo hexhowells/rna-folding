{
 "cells": [
  {
   "cell_type": "code",
   "execution_count": 14,
   "id": "09c442bb-804f-478b-9455-abe8f163bac6",
   "metadata": {},
   "outputs": [],
   "source": [
    "import os\n",
    "import polars as ps"
   ]
  },
  {
   "cell_type": "markdown",
   "id": "7249a58d-7b21-41cb-a3aa-ab3f7999fad1",
   "metadata": {},
   "source": [
    "# Load MSA data"
   ]
  },
  {
   "cell_type": "code",
   "execution_count": 7,
   "id": "31702d56-2039-4785-b665-e8d02bc4cfd3",
   "metadata": {},
   "outputs": [
    {
     "data": {
      "text/plain": [
       "856"
      ]
     },
     "execution_count": 7,
     "metadata": {},
     "output_type": "execute_result"
    }
   ],
   "source": [
    "data_dir = '/media/datasets/rna-folding/MSA'\n",
    "msa_files = []\n",
    "\n",
    "for file in os.listdir(data_dir):\n",
    "    msa_files.append(os.path.join(data_dir, file))\n",
    "\n",
    "len(msa_files)"
   ]
  },
  {
   "cell_type": "code",
   "execution_count": 12,
   "id": "bb7b4444-024d-41a0-8f04-49a71224d408",
   "metadata": {},
   "outputs": [
    {
     "name": "stdout",
     "output_type": "stream",
     "text": [
      ">query\n",
      "UGGGGAGCCGAAAGGCGAAGAACC\n",
      ">URS000080E0AF_1_48_f/1-24\n",
      "GGGGGAGCCGAAAGGCGAAGAACC\n",
      ">URS00009EA8F6_1132_1203_f/25-48\n",
      "UGGGGAGCCGAAAGGCGAAGUUUC\n",
      ">XM_033466160.1_3272_3338_f/22-45\n",
      "AGAGGAGCCGAAAGGCGAAGAAGC\n",
      ">URS0000AF63A8_1507_1573_f/24-47\n",
      "AGGGGAGCCGAAAGGCGAAGCAGC\n",
      ">MZ344584.1_1623_1689_r/22-45\n",
      "UGUGGAGCCGAAAGGCGAAGAAGG\n",
      ">URS0000CAAFC5_1567_1633_f/24-47\n",
      "CGGGGAGCCGAAAGGCGAAGUUUC\n",
      ">URS00000CC4DB_1630_1696_f/24-47\n",
      "AGGGGAGCCGAAAGGCGAAGUUUC\n",
      ">LR535839.1_10004896_10004962_f/24-47\n",
      "AGGGGAGCCGAAAGGCGAAGCUCU\n",
      ">AM425884.2_15686_15752_f/17-43\n",
      "UGGGUAGCCGAAAGGCGAAGAACC\n",
      ">OV277874.1_24654480_24654546_r/25-46\n",
      "UGGGGAGCCGAAAGGCGA--AACU\n",
      ">URS0002154534_1534_1600_f/24-48\n",
      "AGGGGAGCCGAAAGGCGAAGCACC\n",
      ">CP074140.1_582900_582966_r/21-44\n",
      "UUUCGAGCCGAAAGGCGAAGAACA\n",
      ">CP009526.1_816365_816431_f/22-45\n",
      "AACGGAGCCGAAAGGCGAAGAAUU\n",
      ">URS000216084C_2429_2494_f/24-47\n",
      "AGGGGAGCCGAAAGGCGAAAAGUG\n",
      ">URS0000D7B92E_363_429_f/25-46\n",
      "UGGGGAGCCGAAAGGCGAA--AGU\n",
      ">OW121692.1_9681225_9681291_r/22-45\n",
      "CACGGAGCCGAAAGGCGAAGAAAA\n",
      ">URS0002170A02_2417_2481_f/23-46\n",
      "GUGGGAGCCGAAAGGCGAAAAAGU\n",
      ">URS00021306F9_2456_2521_f/23-46\n",
      "GUGGGAGCCGAAAGGCGAAGGUCA\n",
      ">CP046120.1_1299376_1299442_f/24-44\n",
      "UGG-GAGCCGAAAGGCGAAGA--C\n",
      ">URS00021507BB_2846_2910_f/23-47\n",
      "GUGGGAGCCGAAAGGCGAAGAAAU\n",
      ">URS000216C98F_2478_2542_f/23-44\n",
      "UAGGGAGCCGAAAGGCGAA--AGU\n",
      ">URS00021605C1_2378_2442_f/22-45\n",
      "AGUGGAGCCGAAAGGCGAAGUGAA\n",
      ">URS00021483D1_2670_2734_f/23-44\n",
      "GUGGGAGCCGAAAGGCGAA--AUC\n",
      ">URS0002146FB3_2094_2158_f/23-44\n",
      "GUGGGAGCCGAAAGGCGA--AACU\n",
      ">URS0002167169_2487_2551_f/23-46\n",
      "CUGGGAGCCGAAAGGCGAAAAUGA\n",
      ">URS000214E0F0_1744_1809_f/24-45\n",
      "GGGGGAGCCGAAAGGCGAA--AGU\n",
      ">URS00008C7F03_2040_2104_f/23-44\n",
      "UUGGGAGCCGAAAGGCGAA--AGU\n",
      ">URS0000D9F895_2436_2501_f/24-43\n",
      "AGGGGAGCCGAAAGGCGAA----A\n",
      ">URS000212E1C5_2530_2594_f/23-46\n",
      "GUGGGAGCCGAAAGGCGAAAUUCA\n",
      ">URS0000D80584_2440_2504_f/23-46\n",
      "GUGGGAGCCGAAAGGCGAAAAGUG\n",
      ">URS0002149EC6_2135_2199_f/23-46\n",
      "GUGGGAGCCGAAAGGCGAAAGUCA\n",
      ">URS00008C573B_2122_2186_f/23-46\n",
      "GUGGGAGCCGAAAGGCGAAAGACG\n",
      ">URS0000D99F7A_2367_2432_f/23-46\n",
      "GUGGGAGCCGAAAGGCGAAGUGAA\n",
      ">URS0002028830_2442_2507_f/24-42\n",
      "UGGGA-GCCGAAAGGCGAAG----\n",
      ">URS0002157139_2396_2460_f/23-46\n",
      "GUGGGAGCCGAAAGGCGAAAAUGA\n",
      ">URS00021375C9_2822_2887_f/24-43\n",
      "GGGGGAGCCGAAAGGCGAA----A\n",
      ">URS0000D81796_2406_2470_f/23-46\n",
      "GUGGGAGCCGAAAGGCGAAAGUGC\n",
      ">URS000213F37E_298_362_f/23-43\n",
      "GUGGGAGCCGAAAGGCG---AACU\n",
      ">URS000212A35F_2421_2485_f/23-44\n",
      "GUGGGAGCCGAAAGGCGAA--AGC\n",
      ">URS0002161A46_2437_2501_f/23-46\n",
      "GUGGGAGCCGAAAGGCGAAAGAGG\n",
      ">URS0002156581_478_542_f/23-49\n",
      "GUGGGAGCCGAAAGGCGAAGAAAC\n",
      ">URS0000D7E9E8_2424_2488_f/23-48\n",
      "GUGGGAGCCGAAAGGCGAAAGACC\n",
      ">URS0002127831_1885_1949_f/24-42\n",
      "UGG-GAGCCGAAAGGCGAA----C\n",
      ">URS0002161358_380_444_f/23-46\n",
      "GUGGGAGCCGAAAGGCGAAAGUUU\n",
      ">URS000217837B_2333_2397_f/23-51\n",
      "AAGGGAGCCGAAAGGCGAAAAACC\n",
      ">URS00021499B9_1659_1723_f/23-44\n",
      "AAGGGAGCCGAAAGGCGAA--AGU\n",
      ">URS00021327B4_2392_2456_f/24-44\n",
      "UGG-GAGCCGAAAGGCGAA--AUU\n",
      ">URS0000D842B3_29_93_f/24-41\n",
      "UGGGA-GCCGAAAGGCGAA-----\n",
      ">URS000215C6A0_1756_1820_f/23-44\n",
      "GAGGGAGCCGAAAGGCGAA--AGU\n",
      ">URS0000D7797E_561_625_f/23-44\n",
      "GCGGGAGCCGAAAGGCGAA--AGU\n",
      ">URS000091DFC3_1_210_f/76-97\n",
      "UG--GAGCCGAAUGGCCUAGAAAA\n",
      ">URS000215689E_2443_2507_f/54-65\n",
      "UUGGGAGCCGAA------------\n",
      ">URS00009333A8_1_209_f/73-96\n",
      "AUCGGAGCCGAAUGGCUUAGAAGA\n",
      ">URS000093ECFA_1_215_f/71-96\n",
      "UGGGGAGUCUUAGGACGAAGAAAA\n",
      "\n"
     ]
    }
   ],
   "source": [
    "with open(msa_files[1], 'r') as fp:\n",
    "    msa_data = fp.read()\n",
    "\n",
    "print(msa_data)"
   ]
  },
  {
   "cell_type": "markdown",
   "id": "07b09d3f-6fe9-4c37-98f4-e36b1eaa660d",
   "metadata": {},
   "source": [
    "# Training data"
   ]
  },
  {
   "cell_type": "markdown",
   "id": "0536703d-1bc6-4e68-8085-5469a555d3fb",
   "metadata": {},
   "source": [
    "**target_id** - (string) An arbitrary identifier. In train_sequences.csv, this is formatted as pdb_id_chain_id, where pdb_id is the id of the entry in the Protein Data Bank and chain_id is the chain id of the monomer in the pdb file.\n",
    "\n",
    "**sequence** - (string) The RNA sequence. For test_sequences.csv, this is guaranteed to be a string of A, C, G, and U. For some train_sequences.csv, other characters may appear.\n",
    "\n",
    "**temporal_cutoff** - (string) The date in yyyy-mm-dd format that the sequence was published. See Additional Notes.\n",
    "\n",
    "**description** - (string) Details of the origins of the sequence. For a few targets, additional information on small molecule ligands bound to the RNA is included. You don't need to make predictions for these ligand coordinates.\n",
    "\n",
    "**all_sequences** - (string) FASTA-formatted sequences of all molecular chains present in the experimentally solved structure. In a few cases this may include multiple copies of the target RNA (look for the word \"Chains\" in the header) and/or partners like other RNAs or proteins or DNA. You don't need to make predictions for all these molecules; if you do, just submit predictions for sequence. Some entries are blank. **basically, additional rna and molecules that have interacted with the primary RNA sequence to form the 3D strucuture**"
   ]
  },
  {
   "cell_type": "code",
   "execution_count": 44,
   "id": "1d3e8332-e787-4bc1-b5fd-2226ffed568a",
   "metadata": {},
   "outputs": [
    {
     "data": {
      "text/html": [
       "<div><style>\n",
       ".dataframe > thead > tr,\n",
       ".dataframe > tbody > tr {\n",
       "  text-align: right;\n",
       "  white-space: pre-wrap;\n",
       "}\n",
       "</style>\n",
       "<small>shape: (5, 5)</small><table border=\"1\" class=\"dataframe\"><thead><tr><th>target_id</th><th>sequence</th><th>temporal_cutoff</th><th>description</th><th>all_sequences</th></tr><tr><td>str</td><td>str</td><td>str</td><td>str</td><td>str</td></tr></thead><tbody><tr><td>&quot;1SCL_A&quot;</td><td>&quot;GGGUGCUCAGUACGAGAGGAACCGCACCC&quot;</td><td>&quot;1995-01-26&quot;</td><td>&quot;THE SARCIN-RICIN LOOP, A MODUL…</td><td>&quot;&gt;1SCL_1|Chain A|RNA SARCIN-RIC…</td></tr><tr><td>&quot;1RNK_A&quot;</td><td>&quot;GGCGCAGUGGGCUAGCGCCACUCAAAAGGC…</td><td>&quot;1995-02-27&quot;</td><td>&quot;THE STRUCTURE OF AN RNA PSEUDO…</td><td>&quot;&gt;1RNK_1|Chain A|RNA PSEUDOKNOT…</td></tr><tr><td>&quot;1RHT_A&quot;</td><td>&quot;GGGACUGACGAUCACGCAGUCUAU&quot;</td><td>&quot;1995-06-03&quot;</td><td>&quot;24-MER RNA HAIRPIN COAT PROTEI…</td><td>&quot;&gt;1RHT_1|Chain A|RNA (5&#x27;-R(P*GP…</td></tr><tr><td>&quot;1HLX_A&quot;</td><td>&quot;GGGAUAACUUCGGUUGUCCC&quot;</td><td>&quot;1995-09-15&quot;</td><td>&quot;P1 HELIX NUCLEIC ACIDS (DNA/RN…</td><td>&quot;&gt;1HLX_1|Chain A|RNA (5&#x27;-R(*GP*…</td></tr><tr><td>&quot;1HMH_E&quot;</td><td>&quot;GGCGACCCUGAUGAGGCCGAAAGGCCGAAA…</td><td>&quot;1995-12-07&quot;</td><td>&quot;THREE-DIMENSIONAL STRUCTURE OF…</td><td>&quot;&gt;1HMH_1|Chains A, C, E|HAMMERH…</td></tr></tbody></table></div>"
      ],
      "text/plain": [
       "shape: (5, 5)\n",
       "┌───────────┬──────────────────────┬─────────────────┬──────────────────────┬──────────────────────┐\n",
       "│ target_id ┆ sequence             ┆ temporal_cutoff ┆ description          ┆ all_sequences        │\n",
       "│ ---       ┆ ---                  ┆ ---             ┆ ---                  ┆ ---                  │\n",
       "│ str       ┆ str                  ┆ str             ┆ str                  ┆ str                  │\n",
       "╞═══════════╪══════════════════════╪═════════════════╪══════════════════════╪══════════════════════╡\n",
       "│ 1SCL_A    ┆ GGGUGCUCAGUACGAGAGGA ┆ 1995-01-26      ┆ THE SARCIN-RICIN     ┆ >1SCL_1|Chain A|RNA  │\n",
       "│           ┆ ACCGCACCC            ┆                 ┆ LOOP, A MODUL…       ┆ SARCIN-RIC…          │\n",
       "│ 1RNK_A    ┆ GGCGCAGUGGGCUAGCGCCA ┆ 1995-02-27      ┆ THE STRUCTURE OF AN  ┆ >1RNK_1|Chain A|RNA  │\n",
       "│           ┆ CUCAAAAGGC…          ┆                 ┆ RNA PSEUDO…          ┆ PSEUDOKNOT…          │\n",
       "│ 1RHT_A    ┆ GGGACUGACGAUCACGCAGU ┆ 1995-06-03      ┆ 24-MER RNA HAIRPIN   ┆ >1RHT_1|Chain A|RNA  │\n",
       "│           ┆ CUAU                 ┆                 ┆ COAT PROTEI…         ┆ (5'-R(P*GP…          │\n",
       "│ 1HLX_A    ┆ GGGAUAACUUCGGUUGUCCC ┆ 1995-09-15      ┆ P1 HELIX NUCLEIC     ┆ >1HLX_1|Chain A|RNA  │\n",
       "│           ┆                      ┆                 ┆ ACIDS (DNA/RN…       ┆ (5'-R(*GP*…          │\n",
       "│ 1HMH_E    ┆ GGCGACCCUGAUGAGGCCGA ┆ 1995-12-07      ┆ THREE-DIMENSIONAL    ┆ >1HMH_1|Chains A, C, │\n",
       "│           ┆ AAGGCCGAAA…          ┆                 ┆ STRUCTURE OF…        ┆ E|HAMMERH…           │\n",
       "└───────────┴──────────────────────┴─────────────────┴──────────────────────┴──────────────────────┘"
      ]
     },
     "execution_count": 44,
     "metadata": {},
     "output_type": "execute_result"
    }
   ],
   "source": [
    "training_data = ps.read_csv(os.path.join('/media/datasets/rna-folding/train_sequences.csv'))\n",
    "training_data.head(5)"
   ]
  },
  {
   "cell_type": "code",
   "execution_count": 45,
   "id": "18d1146b-1066-4a7c-8f3a-d230adc9783d",
   "metadata": {},
   "outputs": [
    {
     "data": {
      "text/plain": [
       "'>1SCL_1|Chain A|RNA SARCIN-RICIN LOOP|Rattus norvegicus (10116)\\nGGGUGCUCAGUACGAGAGGAACCGCACCC\\n'"
      ]
     },
     "execution_count": 45,
     "metadata": {},
     "output_type": "execute_result"
    }
   ],
   "source": [
    "training_data['all_sequences'][0]"
   ]
  },
  {
   "cell_type": "markdown",
   "id": "2261953d-5756-43ad-b57b-13b52301bfd3",
   "metadata": {},
   "source": [
    "# Training labels"
   ]
  },
  {
   "cell_type": "markdown",
   "id": "4d2e7197-0ccd-4c5a-b140-9af5860385d3",
   "metadata": {},
   "source": [
    "**ID** - (string) that identifies the target_id and residue number, separated by _. Note: residue numbers use one-based indexing.\n",
    "\n",
    "**resname** - (character) The RNA nucleotide ( A, C, G, or U) for the residue.\n",
    "\n",
    "**resid** - (integer) residue number.\n",
    "\n",
    "**x_1,y_1,z_1,x_2,y_2,z_2**  - (float) Coordinates (in Angstroms) of the C1' atom for each experimental RNA structure. There is typically one structure for the RNA sequence, and train_labels.csv curates one structure for each training sequence. However, in some targets the experimental method has captured more than one conformation, and each will be used as a potential reference for scoring your predictions. validation_labels.csv has examples of targets with multiple reference structures (x_2,y_2,z_2, etc.)."
   ]
  },
  {
   "cell_type": "code",
   "execution_count": 28,
   "id": "1efdca14-0e3a-42d1-b217-8c01aa4c3ebd",
   "metadata": {},
   "outputs": [],
   "source": [
    "training_labels = ps.read_csv(os.path.join('/media/datasets/rna-folding/train_labels.csv'))"
   ]
  },
  {
   "cell_type": "code",
   "execution_count": 29,
   "id": "6dce292d-cdc1-4025-8e61-dbe9ceb6f57d",
   "metadata": {},
   "outputs": [
    {
     "data": {
      "text/html": [
       "<div><style>\n",
       ".dataframe > thead > tr,\n",
       ".dataframe > tbody > tr {\n",
       "  text-align: right;\n",
       "  white-space: pre-wrap;\n",
       "}\n",
       "</style>\n",
       "<small>shape: (137_095, 6)</small><table border=\"1\" class=\"dataframe\"><thead><tr><th>ID</th><th>resname</th><th>resid</th><th>x_1</th><th>y_1</th><th>z_1</th></tr><tr><td>str</td><td>str</td><td>i64</td><td>f64</td><td>f64</td><td>f64</td></tr></thead><tbody><tr><td>&quot;1SCL_A_1&quot;</td><td>&quot;G&quot;</td><td>1</td><td>13.76</td><td>-25.974001</td><td>0.102</td></tr><tr><td>&quot;1SCL_A_2&quot;</td><td>&quot;G&quot;</td><td>2</td><td>9.31</td><td>-29.638</td><td>2.669</td></tr><tr><td>&quot;1SCL_A_3&quot;</td><td>&quot;G&quot;</td><td>3</td><td>5.529</td><td>-27.813</td><td>5.878</td></tr><tr><td>&quot;1SCL_A_4&quot;</td><td>&quot;U&quot;</td><td>4</td><td>2.678</td><td>-24.900999</td><td>9.793</td></tr><tr><td>&quot;1SCL_A_5&quot;</td><td>&quot;G&quot;</td><td>5</td><td>1.827</td><td>-20.136</td><td>11.793</td></tr><tr><td>&hellip;</td><td>&hellip;</td><td>&hellip;</td><td>&hellip;</td><td>&hellip;</td><td>&hellip;</td></tr><tr><td>&quot;8Z1F_T_82&quot;</td><td>&quot;U&quot;</td><td>82</td><td>null</td><td>null</td><td>null</td></tr><tr><td>&quot;8Z1F_T_83&quot;</td><td>&quot;C&quot;</td><td>83</td><td>null</td><td>null</td><td>null</td></tr><tr><td>&quot;8Z1F_T_84&quot;</td><td>&quot;A&quot;</td><td>84</td><td>null</td><td>null</td><td>null</td></tr><tr><td>&quot;8Z1F_T_85&quot;</td><td>&quot;U&quot;</td><td>85</td><td>null</td><td>null</td><td>null</td></tr><tr><td>&quot;8Z1F_T_86&quot;</td><td>&quot;A&quot;</td><td>86</td><td>null</td><td>null</td><td>null</td></tr></tbody></table></div>"
      ],
      "text/plain": [
       "shape: (137_095, 6)\n",
       "┌───────────┬─────────┬───────┬───────┬────────────┬────────┐\n",
       "│ ID        ┆ resname ┆ resid ┆ x_1   ┆ y_1        ┆ z_1    │\n",
       "│ ---       ┆ ---     ┆ ---   ┆ ---   ┆ ---        ┆ ---    │\n",
       "│ str       ┆ str     ┆ i64   ┆ f64   ┆ f64        ┆ f64    │\n",
       "╞═══════════╪═════════╪═══════╪═══════╪════════════╪════════╡\n",
       "│ 1SCL_A_1  ┆ G       ┆ 1     ┆ 13.76 ┆ -25.974001 ┆ 0.102  │\n",
       "│ 1SCL_A_2  ┆ G       ┆ 2     ┆ 9.31  ┆ -29.638    ┆ 2.669  │\n",
       "│ 1SCL_A_3  ┆ G       ┆ 3     ┆ 5.529 ┆ -27.813    ┆ 5.878  │\n",
       "│ 1SCL_A_4  ┆ U       ┆ 4     ┆ 2.678 ┆ -24.900999 ┆ 9.793  │\n",
       "│ 1SCL_A_5  ┆ G       ┆ 5     ┆ 1.827 ┆ -20.136    ┆ 11.793 │\n",
       "│ …         ┆ …       ┆ …     ┆ …     ┆ …          ┆ …      │\n",
       "│ 8Z1F_T_82 ┆ U       ┆ 82    ┆ null  ┆ null       ┆ null   │\n",
       "│ 8Z1F_T_83 ┆ C       ┆ 83    ┆ null  ┆ null       ┆ null   │\n",
       "│ 8Z1F_T_84 ┆ A       ┆ 84    ┆ null  ┆ null       ┆ null   │\n",
       "│ 8Z1F_T_85 ┆ U       ┆ 85    ┆ null  ┆ null       ┆ null   │\n",
       "│ 8Z1F_T_86 ┆ A       ┆ 86    ┆ null  ┆ null       ┆ null   │\n",
       "└───────────┴─────────┴───────┴───────┴────────────┴────────┘"
      ]
     },
     "execution_count": 29,
     "metadata": {},
     "output_type": "execute_result"
    }
   ],
   "source": [
    "training_labels"
   ]
  },
  {
   "cell_type": "code",
   "execution_count": null,
   "id": "f4c4e422-4939-4018-b105-31f7bde7568d",
   "metadata": {},
   "outputs": [],
   "source": []
  }
 ],
 "metadata": {
  "kernelspec": {
   "display_name": "Python 3 (ipykernel)",
   "language": "python",
   "name": "python3"
  },
  "language_info": {
   "codemirror_mode": {
    "name": "ipython",
    "version": 3
   },
   "file_extension": ".py",
   "mimetype": "text/x-python",
   "name": "python",
   "nbconvert_exporter": "python",
   "pygments_lexer": "ipython3",
   "version": "3.10.12"
  }
 },
 "nbformat": 4,
 "nbformat_minor": 5
}
