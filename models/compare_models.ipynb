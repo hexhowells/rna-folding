{
 "cells": [
  {
   "cell_type": "code",
   "execution_count": 1,
   "id": "68aba8c6-3215-4871-bb4b-63282bf2b517",
   "metadata": {},
   "outputs": [
    {
     "data": {
      "application/vnd.jupyter.widget-view+json": {
       "model_id": "667314986d174652afa25488e949fe0c",
       "version_major": 2,
       "version_minor": 0
      },
      "text/plain": []
     },
     "metadata": {},
     "output_type": "display_data"
    }
   ],
   "source": [
    "import nglview as nv"
   ]
  },
  {
   "cell_type": "markdown",
   "id": "6886b8a9-68b9-4fc6-9f1b-815fd81a1901",
   "metadata": {},
   "source": [
    "## trRosettaRNA"
   ]
  },
  {
   "cell_type": "code",
   "execution_count": 2,
   "id": "0c0b6c1e-5dc7-473c-9f54-a69dbd4891fe",
   "metadata": {},
   "outputs": [
    {
     "data": {
      "application/vnd.jupyter.widget-view+json": {
       "model_id": "333de1dbd7c34e99bfeaf2f7fe9c7cf4",
       "version_major": 2,
       "version_minor": 0
      },
      "text/plain": [
       "NGLWidget()"
      ]
     },
     "metadata": {},
     "output_type": "display_data"
    }
   ],
   "source": [
    "fp = \"/home/morgan/jupyter/deep_learning/rna-folding/models/trRosettaRNA/trRosettaRNA_v1.1/test_out.pdb\"\n",
    "\n",
    "view = nv.show_file(fp)\n",
    "view"
   ]
  },
  {
   "cell_type": "markdown",
   "id": "324d7a96-9616-4785-801d-b148700e2d11",
   "metadata": {},
   "source": [
    "## Boltz-1"
   ]
  },
  {
   "cell_type": "code",
   "execution_count": 3,
   "id": "3fcb1664-d39d-4101-ba56-51df7681c9d4",
   "metadata": {},
   "outputs": [
    {
     "data": {
      "application/vnd.jupyter.widget-view+json": {
       "model_id": "8f1a0d474b8c4d86bd0341cdd90a8925",
       "version_major": 2,
       "version_minor": 0
      },
      "text/plain": [
       "NGLWidget()"
      ]
     },
     "metadata": {},
     "output_type": "display_data"
    }
   ],
   "source": [
    "fp = \"/home/morgan/jupyter/deep_learning/rna-folding/models/out/boltz_results_seq/predictions/seq/seq_model_0.pdb\"\n",
    "\n",
    "view = nv.show_file(fp)\n",
    "view"
   ]
  },
  {
   "cell_type": "markdown",
   "id": "705c46d8-a8a1-4add-ab6f-4ec73c0d8704",
   "metadata": {},
   "source": [
    "## DrFold-2"
   ]
  },
  {
   "cell_type": "code",
   "execution_count": 4,
   "id": "f8b0b8c6-1653-44ff-be79-2061858565da",
   "metadata": {},
   "outputs": [
    {
     "data": {
      "application/vnd.jupyter.widget-view+json": {
       "model_id": "a2b06ff340124863bc1cb71d44b1be5b",
       "version_major": 2,
       "version_minor": 0
      },
      "text/plain": [
       "NGLWidget()"
      ]
     },
     "metadata": {},
     "output_type": "display_data"
    }
   ],
   "source": [
    "fp = \"/home/morgan/jupyter/deep_learning/rna-folding/models/out/drfold-out/folds/opt_2_from_cfg_95_model_17.ret.pdb\"\n",
    "\n",
    "view = nv.show_file(fp)\n",
    "view"
   ]
  },
  {
   "cell_type": "code",
   "execution_count": null,
   "id": "c55f6cba-5c04-4076-9c1a-0c1633d492ea",
   "metadata": {},
   "outputs": [],
   "source": []
  }
 ],
 "metadata": {
  "kernelspec": {
   "display_name": "Python 3 (ipykernel)",
   "language": "python",
   "name": "python3"
  },
  "language_info": {
   "codemirror_mode": {
    "name": "ipython",
    "version": 3
   },
   "file_extension": ".py",
   "mimetype": "text/x-python",
   "name": "python",
   "nbconvert_exporter": "python",
   "pygments_lexer": "ipython3",
   "version": "3.10.12"
  }
 },
 "nbformat": 4,
 "nbformat_minor": 5
}
